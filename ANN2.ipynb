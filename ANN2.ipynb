{
 "cells": [
  {
   "cell_type": "code",
   "execution_count": 1,
   "id": "22b66b08",
   "metadata": {},
   "outputs": [],
   "source": [
    "from tabulate import tabulate"
   ]
  },
  {
   "cell_type": "code",
   "execution_count": 4,
   "id": "93bb6e3c",
   "metadata": {},
   "outputs": [
    {
     "name": "stdout",
     "output_type": "stream",
     "text": [
      "x1  x2  w1  w2   t   S\n",
      "1   1   1   -1   1   0\n",
      "1   0   1   -1   1   1\n",
      "0   1   1   -1   1   0\n",
      "0   0   1   -1   1   0\n"
     ]
    }
   ],
   "source": [
    "x1=[1,1,0,0]\n",
    "x2=[1,0,1,0]\n",
    "w1=[1,1,1,1]\n",
    "w2=[-1,-1,-1,-1]\n",
    "t=1\n",
    "\n",
    "print('x1  x2  w1  w2   t   S')\n",
    "\n",
    "for i in range(len(x1)):\n",
    "    if(x1[i]*w1[i]+x2[i]*w2[i]>=t):\n",
    "        print(x1[i],' ',x2[i],' ',w1[i],' ',w2[i],' ',t,' ',1)\n",
    "    else:\n",
    "        print(x1[i],' ',x2[i],' ',w1[i],' ',w2[i],' ',t,' ',0)"
   ]
  },
  {
   "cell_type": "code",
   "execution_count": null,
   "id": "6aed390e",
   "metadata": {},
   "outputs": [],
   "source": []
  }
 ],
 "metadata": {
  "kernelspec": {
   "display_name": "Python 3 (ipykernel)",
   "language": "python",
   "name": "python3"
  },
  "language_info": {
   "codemirror_mode": {
    "name": "ipython",
    "version": 3
   },
   "file_extension": ".py",
   "mimetype": "text/x-python",
   "name": "python",
   "nbconvert_exporter": "python",
   "pygments_lexer": "ipython3",
   "version": "3.11.7"
  }
 },
 "nbformat": 4,
 "nbformat_minor": 5
}
