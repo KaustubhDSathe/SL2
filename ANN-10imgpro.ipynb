{
 "cells": [
  {
   "cell_type": "markdown",
   "id": "dd067e35-6b3d-4a35-8101-b26e4333578b",
   "metadata": {},
   "source": [
    "# 10. Write Python program to implement CNN object detection. Discuss numerous performance evaluation metrics for evaluating the object detecting algorithms' performance"
   ]
  },
  {
   "cell_type": "code",
   "execution_count": 7,
   "id": "2833c3de-f11e-493f-b69e-cd6f0c84dfad",
   "metadata": {},
   "outputs": [
    {
     "name": "stdout",
     "output_type": "stream",
     "text": [
      "\u001b[1m1/1\u001b[0m \u001b[32m━━━━━━━━━━━━━━━━━━━━\u001b[0m\u001b[37m\u001b[0m \u001b[1m1s\u001b[0m 1s/step\n",
      "tiger_cat: 54.08132076263428%\n",
      "tabby: 24.382799863815308%\n",
      "lynx: 3.427685424685478%\n",
      "Egyptian_cat: 3.268396109342575%\n",
      "Persian_cat: 0.8478180505335331%\n"
     ]
    }
   ],
   "source": [
    "import tensorflow as tf\n",
    "model = tf.keras.applications.MobileNetV2(weights='imagenet')\n",
    "# Load image and preprocess it\n",
    "image = tf.keras.preprocessing.image.load_img('download.jpg', target_size=(224, 224))\n",
    "image = tf.keras.preprocessing.image.img_to_array(image)\n",
    "image = tf.keras.applications.mobilenet_v2.preprocess_input(image)\n",
    "image = tf.expand_dims(image, axis=0)\n",
    "# Run object detection\n",
    "predictions = model.predict(image)\n",
    "decoded_predictions = tf.keras.applications.mobilenet_v2.decode_predictions(predictions)\n",
    "# Print top predicted objects\n",
    "for _, label, confidence in decoded_predictions[0]:\n",
    "    print(f\"{label}: {confidence * 100}%\")"
   ]
  },
  {
   "cell_type": "code",
   "execution_count": null,
   "id": "53cea535-9918-4d67-9980-89ae480509e3",
   "metadata": {},
   "outputs": [],
   "source": []
  },
  {
   "cell_type": "code",
   "execution_count": null,
   "id": "1ac83d1f-1e45-454f-acea-4b8e881d12f8",
   "metadata": {},
   "outputs": [],
   "source": []
  }
 ],
 "metadata": {
  "kernelspec": {
   "display_name": "Python 3 (ipykernel)",
   "language": "python",
   "name": "python3"
  },
  "language_info": {
   "codemirror_mode": {
    "name": "ipython",
    "version": 3
   },
   "file_extension": ".py",
   "mimetype": "text/x-python",
   "name": "python",
   "nbconvert_exporter": "python",
   "pygments_lexer": "ipython3",
   "version": "3.11.7"
  }
 },
 "nbformat": 4,
 "nbformat_minor": 5
}
